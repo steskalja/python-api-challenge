{
 "cells": [
  {
   "cell_type": "markdown",
   "metadata": {},
   "source": [
    "# VacationPy\n",
    "----\n",
    "\n",
    "#### Note\n",
    "* Keep an eye on your API usage. Use https://developers.google.com/maps/reporting/gmp-reporting as reference for how to monitor your usage and billing.\n",
    "\n",
    "* Instructions have been included for each segment. You do not have to follow them exactly, but they are included to help you think through the steps."
   ]
  },
  {
   "cell_type": "code",
   "execution_count": 138,
   "metadata": {},
   "outputs": [],
   "source": [
    "# Dependencies and Setup\n",
    "import matplotlib.pyplot as plt\n",
    "import pandas as pd\n",
    "import numpy as np\n",
    "import requests\n",
    "import gmaps\n",
    "import os\n",
    "\n",
    "# Import API key\n",
    "from api_keys import g_key\n",
    "\n",
    "#Uri configuration\n",
    "uri = \"https://maps.googleapis.com/maps/api/place/nearbysearch/json?\"\n",
    "# Get File\n",
    "output_data_file = \"output_data/cities.csv\""
   ]
  },
  {
   "cell_type": "markdown",
   "metadata": {},
   "source": [
    "### Store Part I results into DataFrame\n",
    "* Load the csv exported in Part I to a DataFrame"
   ]
  },
  {
   "cell_type": "code",
   "execution_count": 139,
   "metadata": {},
   "outputs": [
    {
     "output_type": "execute_result",
     "data": {
      "text/plain": [
       "              City       Lat        Lng Max Temp Humidity Cloudiness  \\\n",
       "0      Tuktoyaktuk   69.4541  -133.0374     -9.4       84         75   \n",
       "1          Andrews   32.3187  -102.5457     62.6       17          1   \n",
       "2          Requena   39.4883    -1.1004     46.0       91         49   \n",
       "3  Puerto Colombia   10.9878   -74.9547     78.8       78         75   \n",
       "4          Ushuaia     -54.8      -68.3     46.4       71         40   \n",
       "5   Port Elizabeth   -33.918    25.5701     69.8       83         20   \n",
       "6           Atuona      -9.8  -139.0333     80.8       75          0   \n",
       "7         Alquízar   22.8058   -82.5842     82.4       57         20   \n",
       "8          Mataura  -46.1927   168.8643    55.99       92         93   \n",
       "9       The Valley    18.217   -63.0578    78.01       69         40   \n",
       "\n",
       "  Wind Speed Country        Date  \n",
       "0      10.36      CA  1616109435  \n",
       "1       5.03      US  1616109436  \n",
       "2       3.87      ES  1616109436  \n",
       "3      12.66      CO  1616109436  \n",
       "4       11.5      AR  1616109423  \n",
       "5      23.02      ZA  1616109437  \n",
       "6      10.83      PF  1616109437  \n",
       "7       6.91      CU  1616109437  \n",
       "8       1.99      NZ  1616109438  \n",
       "9      10.36      AI  1616109438  "
      ],
      "text/html": "<div>\n<style scoped>\n    .dataframe tbody tr th:only-of-type {\n        vertical-align: middle;\n    }\n\n    .dataframe tbody tr th {\n        vertical-align: top;\n    }\n\n    .dataframe thead th {\n        text-align: right;\n    }\n</style>\n<table border=\"1\" class=\"dataframe\">\n  <thead>\n    <tr style=\"text-align: right;\">\n      <th></th>\n      <th>City</th>\n      <th>Lat</th>\n      <th>Lng</th>\n      <th>Max Temp</th>\n      <th>Humidity</th>\n      <th>Cloudiness</th>\n      <th>Wind Speed</th>\n      <th>Country</th>\n      <th>Date</th>\n    </tr>\n  </thead>\n  <tbody>\n    <tr>\n      <th>0</th>\n      <td>Tuktoyaktuk</td>\n      <td>69.4541</td>\n      <td>-133.0374</td>\n      <td>-9.4</td>\n      <td>84</td>\n      <td>75</td>\n      <td>10.36</td>\n      <td>CA</td>\n      <td>1616109435</td>\n    </tr>\n    <tr>\n      <th>1</th>\n      <td>Andrews</td>\n      <td>32.3187</td>\n      <td>-102.5457</td>\n      <td>62.6</td>\n      <td>17</td>\n      <td>1</td>\n      <td>5.03</td>\n      <td>US</td>\n      <td>1616109436</td>\n    </tr>\n    <tr>\n      <th>2</th>\n      <td>Requena</td>\n      <td>39.4883</td>\n      <td>-1.1004</td>\n      <td>46.0</td>\n      <td>91</td>\n      <td>49</td>\n      <td>3.87</td>\n      <td>ES</td>\n      <td>1616109436</td>\n    </tr>\n    <tr>\n      <th>3</th>\n      <td>Puerto Colombia</td>\n      <td>10.9878</td>\n      <td>-74.9547</td>\n      <td>78.8</td>\n      <td>78</td>\n      <td>75</td>\n      <td>12.66</td>\n      <td>CO</td>\n      <td>1616109436</td>\n    </tr>\n    <tr>\n      <th>4</th>\n      <td>Ushuaia</td>\n      <td>-54.8</td>\n      <td>-68.3</td>\n      <td>46.4</td>\n      <td>71</td>\n      <td>40</td>\n      <td>11.5</td>\n      <td>AR</td>\n      <td>1616109423</td>\n    </tr>\n    <tr>\n      <th>5</th>\n      <td>Port Elizabeth</td>\n      <td>-33.918</td>\n      <td>25.5701</td>\n      <td>69.8</td>\n      <td>83</td>\n      <td>20</td>\n      <td>23.02</td>\n      <td>ZA</td>\n      <td>1616109437</td>\n    </tr>\n    <tr>\n      <th>6</th>\n      <td>Atuona</td>\n      <td>-9.8</td>\n      <td>-139.0333</td>\n      <td>80.8</td>\n      <td>75</td>\n      <td>0</td>\n      <td>10.83</td>\n      <td>PF</td>\n      <td>1616109437</td>\n    </tr>\n    <tr>\n      <th>7</th>\n      <td>Alquízar</td>\n      <td>22.8058</td>\n      <td>-82.5842</td>\n      <td>82.4</td>\n      <td>57</td>\n      <td>20</td>\n      <td>6.91</td>\n      <td>CU</td>\n      <td>1616109437</td>\n    </tr>\n    <tr>\n      <th>8</th>\n      <td>Mataura</td>\n      <td>-46.1927</td>\n      <td>168.8643</td>\n      <td>55.99</td>\n      <td>92</td>\n      <td>93</td>\n      <td>1.99</td>\n      <td>NZ</td>\n      <td>1616109438</td>\n    </tr>\n    <tr>\n      <th>9</th>\n      <td>The Valley</td>\n      <td>18.217</td>\n      <td>-63.0578</td>\n      <td>78.01</td>\n      <td>69</td>\n      <td>40</td>\n      <td>10.36</td>\n      <td>AI</td>\n      <td>1616109438</td>\n    </tr>\n  </tbody>\n</table>\n</div>"
     },
     "metadata": {},
     "execution_count": 139
    }
   ],
   "source": [
    "city_df = pd.read_csv(output_data_file, dtype=\"object\", encoding=\"utf-8\")\n",
    "city_df.head(10)"
   ]
  },
  {
   "cell_type": "markdown",
   "metadata": {},
   "source": [
    "### Humidity Heatmap\n",
    "* Configure gmaps.\n",
    "* Use the Lat and Lng as locations and Humidity as the weight.\n",
    "* Add Heatmap layer to map."
   ]
  },
  {
   "cell_type": "code",
   "execution_count": 140,
   "metadata": {},
   "outputs": [],
   "source": [
    "gmaps.configure(api_key=g_key)"
   ]
  },
  {
   "cell_type": "code",
   "execution_count": 141,
   "metadata": {},
   "outputs": [],
   "source": [
    "locations = city_df[[\"Lat\", \"Lng\"]].astype(float)\n",
    "rating = city_df[\"Humidity\"].astype(float)\n",
    "intensity = city_df[\"Humidity\"].max()"
   ]
  },
  {
   "cell_type": "code",
   "execution_count": 142,
   "metadata": {},
   "outputs": [
    {
     "output_type": "display_data",
     "data": {
      "text/plain": "Figure(layout=FigureLayout(height='420px'))",
      "application/vnd.jupyter.widget-view+json": {
       "version_major": 2,
       "version_minor": 0,
       "model_id": "d2acefdef65640619e213ed4f7fe0740"
      }
     },
     "metadata": {}
    }
   ],
   "source": [
    "# Plot Heatmap\n",
    "fig = gmaps.figure()\n",
    "\n",
    "# Create heat layer\n",
    "heat_layer = gmaps.heatmap_layer(locations, weights=rating, dissipating=False, max_intensity=int(intensity),point_radius=1)\n",
    "\n",
    "\n",
    "# Add layer\n",
    "fig.add_layer(heat_layer)\n",
    "\n",
    "# Display figure\n",
    "fig"
   ]
  },
  {
   "cell_type": "markdown",
   "metadata": {},
   "source": [
    "### Create new DataFrame fitting weather criteria\n",
    "* Narrow down the cities to fit weather conditions.\n",
    "* Drop any rows will null values."
   ]
  },
  {
   "cell_type": "code",
   "execution_count": 143,
   "metadata": {},
   "outputs": [
    {
     "output_type": "execute_result",
     "data": {
      "text/plain": [
       "City          30\n",
       "Lat           30\n",
       "Lng           30\n",
       "Max Temp      30\n",
       "Humidity      30\n",
       "Cloudiness    30\n",
       "Wind Speed    30\n",
       "Country       30\n",
       "Date          30\n",
       "dtype: int64"
      ]
     },
     "metadata": {},
     "execution_count": 143
    }
   ],
   "source": [
    "#A max temperature lower than 85 degrees but higher than 70.\n",
    "#Wind speed less than 10 mph.\n",
    "#Cloudiness is less than 10%.\n",
    "\n",
    "\n",
    "clean_city_df = city_df.loc[(city_df['Max Temp'].astype(float) > 70) & (city_df['Max Temp'].astype(float) < 85) & (city_df['Wind Speed'].astype(float) < 10) & (city_df['Cloudiness'].astype(float) < 10)]\n",
    "clean_city_df.count()"
   ]
  },
  {
   "cell_type": "markdown",
   "metadata": {},
   "source": [
    "### Hotel Map\n",
    "* Store into variable named `hotel_df`.\n",
    "* Add a \"Hotel Name\" column to the DataFrame.\n",
    "* Set parameters to search for hotels with 5000 meters.\n",
    "* Hit the Google Places API for each city's coordinates.\n",
    "* Store the first Hotel result into the DataFrame.\n",
    "* Plot markers on top of the heatmap."
   ]
  },
  {
   "cell_type": "code",
   "execution_count": 144,
   "metadata": {
    "tags": []
   },
   "outputs": [],
   "source": [
    "\n",
    "hotel_df = clean_city_df[['City','Lat','Lng','Max Temp','Humidity','Cloudiness','Wind Speed','Country']]\n",
    "hotel_df[\"Hotel Name\"] = ''\n",
    "\n",
    "for index, row in hotel_df.iterrows():\n",
    "    lat = row['Lat']\n",
    "    lng = row['Lng']\n",
    "    rslt = requests.get(f\"{uri}location={lat},{lng}&radius=5000&type=lodging&keyword=hotel&key={g_key}\").json()\n",
    "    try:\n",
    "        hotel_df[\"Hotel Name\"].loc[(hotel_df['Lat'] == lat) & (hotel_df['Lng'] == lng)] = rslt[\"results\"][0][\"name\"]\n",
    "    except:\n",
    "        hotel_df[\"Hotel Name\"].loc[(hotel_df['Lat'] == lat) & (hotel_df['Lng'] == lng)] = \"No Hotel\"\n",
    "        pass"
   ]
  },
  {
   "cell_type": "code",
   "execution_count": 145,
   "metadata": {},
   "outputs": [
    {
     "output_type": "execute_result",
     "data": {
      "text/plain": [
       "               City       Lat        Lng Max Temp Humidity Cloudiness  \\\n",
       "40       Port Blair   11.6667      92.75    77.76       67          0   \n",
       "42       Himatnagar      23.6      72.95     77.0       41          4   \n",
       "60          Buckeye   33.3703  -112.5838    82.99       17          5   \n",
       "93      Port Alfred  -33.5906     26.891    70.72       89          3   \n",
       "101    Saint George   37.1041  -113.5841    71.01       32          1   \n",
       "108         Salalah   17.0151    54.0924     75.2       43          0   \n",
       "119          Gwadar   25.1216    62.3254    73.06       69          0   \n",
       "120          García   25.8167  -100.5833     77.0       14          1   \n",
       "122             Sur   22.5667    59.5289    79.07       41          0   \n",
       "131          Marawi    7.9986   124.2928    75.99       82          5   \n",
       "133    Saint-Pierre  -21.3393    55.4781     75.2       73          0   \n",
       "141       Taoudenni   22.6783    -3.9836    73.53       14          0   \n",
       "185         Formosa  -26.1775   -58.1781     73.4       83          0   \n",
       "207          Mocuba  -16.8392    36.9856    71.13       97          2   \n",
       "258          Jiwani     25.05    61.7417    74.89       70          0   \n",
       "266     Grand Gaube  -20.0064    57.6608    73.99       76          8   \n",
       "288            Atar   20.5169   -13.0499    76.06       10          0   \n",
       "293          Bonthe    7.5264    -12.505    78.06       77          0   \n",
       "298  Saint-Philippe  -21.3585    55.7679     75.2       73          0   \n",
       "300       Caravelas  -17.7125   -39.2481    77.05       83          5   \n",
       "335      São Filipe   14.8961   -24.4956    71.24       80          8   \n",
       "359            Ruwi   23.5996    58.5507     77.0       33          0   \n",
       "373       Geraldton  -28.7667      114.6     71.6       33          3   \n",
       "405            Baní   18.2833   -70.3333     79.0       73          1   \n",
       "419  Bobo-Dioulasso   11.1771    -4.2979     84.2       37          0   \n",
       "440          Beloha  -25.1667      45.05    73.22       89          0   \n",
       "460        Belmonte  -15.8631   -38.8828     78.8       78          0   \n",
       "485        Cabedelo   -6.9811   -34.8339     78.8       89          0   \n",
       "545    Sierra Vista   31.5545  -110.3037    73.99        4          1   \n",
       "551   Sunrise Manor   36.2111  -115.0731     73.0       17          1   \n",
       "\n",
       "    Wind Speed Country                                         Hotel Name  \n",
       "40        2.44      IN                                    Hotel Ami Grace  \n",
       "42        4.61      IN                  Dowlat Villas Palace The Heritage  \n",
       "60        1.01      US                                     Westward Motel  \n",
       "93        7.58      ZA                                       MyPond Hotel  \n",
       "101       6.91      US                           Tru By Hilton St. George  \n",
       "108       4.61      OM                              Salalah Gardens Hotel  \n",
       "119       4.18      PK                      Zaver Pearl Continental Hotel  \n",
       "120       8.05      MX                      Antique Hotel Boutique Garcia  \n",
       "122       8.84      OM  Sur Bandar Ayjah Hotel Apartments صور بندر الع...  \n",
       "131       5.01      PH                                Marawi Resort Hotel  \n",
       "133       4.61      RE                       Maison Tonga Piscine Jacuzzi  \n",
       "141       6.67      ML                                           No Hotel  \n",
       "185       5.75      AR            Howard Johnson Hotel And Casino Formosa  \n",
       "207       1.43      MZ                                 Aschel guest house  \n",
       "258        4.7      PK                                 Hamza hotel jiwani  \n",
       "266        3.0      MU                    LUX Grand Gaube Resort & Villas  \n",
       "288       7.11      MR                                  les toiles maures  \n",
       "293       5.91      SL                             Bonthe Holiday Village  \n",
       "298       4.61      RE                               Les Embruns Du Baril  \n",
       "300       5.77      BR                               Mar Doce de Abrolhos  \n",
       "335       5.75      CV                                      Hotel Xaguate  \n",
       "359        2.3      OM                                Sheraton Oman Hotel  \n",
       "373       6.91      AU                                 Ocean Centre Hotel  \n",
       "405        4.0      DO                                    Hotel Don Pérez  \n",
       "419       4.12      BF                                Hôtel L´Auberge ***  \n",
       "440       6.69      MG                                           No Hotel  \n",
       "460       4.61      BR                                   Pousada do Diogo  \n",
       "485       4.61      BR                                      Hotel Almagre  \n",
       "545       4.61      US                       Best Western Plus Sun Canyon  \n",
       "551       1.77      US  SpringHill Suites by Marriott Las Vegas North ...  "
      ],
      "text/html": "<div>\n<style scoped>\n    .dataframe tbody tr th:only-of-type {\n        vertical-align: middle;\n    }\n\n    .dataframe tbody tr th {\n        vertical-align: top;\n    }\n\n    .dataframe thead th {\n        text-align: right;\n    }\n</style>\n<table border=\"1\" class=\"dataframe\">\n  <thead>\n    <tr style=\"text-align: right;\">\n      <th></th>\n      <th>City</th>\n      <th>Lat</th>\n      <th>Lng</th>\n      <th>Max Temp</th>\n      <th>Humidity</th>\n      <th>Cloudiness</th>\n      <th>Wind Speed</th>\n      <th>Country</th>\n      <th>Hotel Name</th>\n    </tr>\n  </thead>\n  <tbody>\n    <tr>\n      <th>40</th>\n      <td>Port Blair</td>\n      <td>11.6667</td>\n      <td>92.75</td>\n      <td>77.76</td>\n      <td>67</td>\n      <td>0</td>\n      <td>2.44</td>\n      <td>IN</td>\n      <td>Hotel Ami Grace</td>\n    </tr>\n    <tr>\n      <th>42</th>\n      <td>Himatnagar</td>\n      <td>23.6</td>\n      <td>72.95</td>\n      <td>77.0</td>\n      <td>41</td>\n      <td>4</td>\n      <td>4.61</td>\n      <td>IN</td>\n      <td>Dowlat Villas Palace The Heritage</td>\n    </tr>\n    <tr>\n      <th>60</th>\n      <td>Buckeye</td>\n      <td>33.3703</td>\n      <td>-112.5838</td>\n      <td>82.99</td>\n      <td>17</td>\n      <td>5</td>\n      <td>1.01</td>\n      <td>US</td>\n      <td>Westward Motel</td>\n    </tr>\n    <tr>\n      <th>93</th>\n      <td>Port Alfred</td>\n      <td>-33.5906</td>\n      <td>26.891</td>\n      <td>70.72</td>\n      <td>89</td>\n      <td>3</td>\n      <td>7.58</td>\n      <td>ZA</td>\n      <td>MyPond Hotel</td>\n    </tr>\n    <tr>\n      <th>101</th>\n      <td>Saint George</td>\n      <td>37.1041</td>\n      <td>-113.5841</td>\n      <td>71.01</td>\n      <td>32</td>\n      <td>1</td>\n      <td>6.91</td>\n      <td>US</td>\n      <td>Tru By Hilton St. George</td>\n    </tr>\n    <tr>\n      <th>108</th>\n      <td>Salalah</td>\n      <td>17.0151</td>\n      <td>54.0924</td>\n      <td>75.2</td>\n      <td>43</td>\n      <td>0</td>\n      <td>4.61</td>\n      <td>OM</td>\n      <td>Salalah Gardens Hotel</td>\n    </tr>\n    <tr>\n      <th>119</th>\n      <td>Gwadar</td>\n      <td>25.1216</td>\n      <td>62.3254</td>\n      <td>73.06</td>\n      <td>69</td>\n      <td>0</td>\n      <td>4.18</td>\n      <td>PK</td>\n      <td>Zaver Pearl Continental Hotel</td>\n    </tr>\n    <tr>\n      <th>120</th>\n      <td>García</td>\n      <td>25.8167</td>\n      <td>-100.5833</td>\n      <td>77.0</td>\n      <td>14</td>\n      <td>1</td>\n      <td>8.05</td>\n      <td>MX</td>\n      <td>Antique Hotel Boutique Garcia</td>\n    </tr>\n    <tr>\n      <th>122</th>\n      <td>Sur</td>\n      <td>22.5667</td>\n      <td>59.5289</td>\n      <td>79.07</td>\n      <td>41</td>\n      <td>0</td>\n      <td>8.84</td>\n      <td>OM</td>\n      <td>Sur Bandar Ayjah Hotel Apartments صور بندر الع...</td>\n    </tr>\n    <tr>\n      <th>131</th>\n      <td>Marawi</td>\n      <td>7.9986</td>\n      <td>124.2928</td>\n      <td>75.99</td>\n      <td>82</td>\n      <td>5</td>\n      <td>5.01</td>\n      <td>PH</td>\n      <td>Marawi Resort Hotel</td>\n    </tr>\n    <tr>\n      <th>133</th>\n      <td>Saint-Pierre</td>\n      <td>-21.3393</td>\n      <td>55.4781</td>\n      <td>75.2</td>\n      <td>73</td>\n      <td>0</td>\n      <td>4.61</td>\n      <td>RE</td>\n      <td>Maison Tonga Piscine Jacuzzi</td>\n    </tr>\n    <tr>\n      <th>141</th>\n      <td>Taoudenni</td>\n      <td>22.6783</td>\n      <td>-3.9836</td>\n      <td>73.53</td>\n      <td>14</td>\n      <td>0</td>\n      <td>6.67</td>\n      <td>ML</td>\n      <td>No Hotel</td>\n    </tr>\n    <tr>\n      <th>185</th>\n      <td>Formosa</td>\n      <td>-26.1775</td>\n      <td>-58.1781</td>\n      <td>73.4</td>\n      <td>83</td>\n      <td>0</td>\n      <td>5.75</td>\n      <td>AR</td>\n      <td>Howard Johnson Hotel And Casino Formosa</td>\n    </tr>\n    <tr>\n      <th>207</th>\n      <td>Mocuba</td>\n      <td>-16.8392</td>\n      <td>36.9856</td>\n      <td>71.13</td>\n      <td>97</td>\n      <td>2</td>\n      <td>1.43</td>\n      <td>MZ</td>\n      <td>Aschel guest house</td>\n    </tr>\n    <tr>\n      <th>258</th>\n      <td>Jiwani</td>\n      <td>25.05</td>\n      <td>61.7417</td>\n      <td>74.89</td>\n      <td>70</td>\n      <td>0</td>\n      <td>4.7</td>\n      <td>PK</td>\n      <td>Hamza hotel jiwani</td>\n    </tr>\n    <tr>\n      <th>266</th>\n      <td>Grand Gaube</td>\n      <td>-20.0064</td>\n      <td>57.6608</td>\n      <td>73.99</td>\n      <td>76</td>\n      <td>8</td>\n      <td>3.0</td>\n      <td>MU</td>\n      <td>LUX Grand Gaube Resort &amp; Villas</td>\n    </tr>\n    <tr>\n      <th>288</th>\n      <td>Atar</td>\n      <td>20.5169</td>\n      <td>-13.0499</td>\n      <td>76.06</td>\n      <td>10</td>\n      <td>0</td>\n      <td>7.11</td>\n      <td>MR</td>\n      <td>les toiles maures</td>\n    </tr>\n    <tr>\n      <th>293</th>\n      <td>Bonthe</td>\n      <td>7.5264</td>\n      <td>-12.505</td>\n      <td>78.06</td>\n      <td>77</td>\n      <td>0</td>\n      <td>5.91</td>\n      <td>SL</td>\n      <td>Bonthe Holiday Village</td>\n    </tr>\n    <tr>\n      <th>298</th>\n      <td>Saint-Philippe</td>\n      <td>-21.3585</td>\n      <td>55.7679</td>\n      <td>75.2</td>\n      <td>73</td>\n      <td>0</td>\n      <td>4.61</td>\n      <td>RE</td>\n      <td>Les Embruns Du Baril</td>\n    </tr>\n    <tr>\n      <th>300</th>\n      <td>Caravelas</td>\n      <td>-17.7125</td>\n      <td>-39.2481</td>\n      <td>77.05</td>\n      <td>83</td>\n      <td>5</td>\n      <td>5.77</td>\n      <td>BR</td>\n      <td>Mar Doce de Abrolhos</td>\n    </tr>\n    <tr>\n      <th>335</th>\n      <td>São Filipe</td>\n      <td>14.8961</td>\n      <td>-24.4956</td>\n      <td>71.24</td>\n      <td>80</td>\n      <td>8</td>\n      <td>5.75</td>\n      <td>CV</td>\n      <td>Hotel Xaguate</td>\n    </tr>\n    <tr>\n      <th>359</th>\n      <td>Ruwi</td>\n      <td>23.5996</td>\n      <td>58.5507</td>\n      <td>77.0</td>\n      <td>33</td>\n      <td>0</td>\n      <td>2.3</td>\n      <td>OM</td>\n      <td>Sheraton Oman Hotel</td>\n    </tr>\n    <tr>\n      <th>373</th>\n      <td>Geraldton</td>\n      <td>-28.7667</td>\n      <td>114.6</td>\n      <td>71.6</td>\n      <td>33</td>\n      <td>3</td>\n      <td>6.91</td>\n      <td>AU</td>\n      <td>Ocean Centre Hotel</td>\n    </tr>\n    <tr>\n      <th>405</th>\n      <td>Baní</td>\n      <td>18.2833</td>\n      <td>-70.3333</td>\n      <td>79.0</td>\n      <td>73</td>\n      <td>1</td>\n      <td>4.0</td>\n      <td>DO</td>\n      <td>Hotel Don Pérez</td>\n    </tr>\n    <tr>\n      <th>419</th>\n      <td>Bobo-Dioulasso</td>\n      <td>11.1771</td>\n      <td>-4.2979</td>\n      <td>84.2</td>\n      <td>37</td>\n      <td>0</td>\n      <td>4.12</td>\n      <td>BF</td>\n      <td>Hôtel L´Auberge ***</td>\n    </tr>\n    <tr>\n      <th>440</th>\n      <td>Beloha</td>\n      <td>-25.1667</td>\n      <td>45.05</td>\n      <td>73.22</td>\n      <td>89</td>\n      <td>0</td>\n      <td>6.69</td>\n      <td>MG</td>\n      <td>No Hotel</td>\n    </tr>\n    <tr>\n      <th>460</th>\n      <td>Belmonte</td>\n      <td>-15.8631</td>\n      <td>-38.8828</td>\n      <td>78.8</td>\n      <td>78</td>\n      <td>0</td>\n      <td>4.61</td>\n      <td>BR</td>\n      <td>Pousada do Diogo</td>\n    </tr>\n    <tr>\n      <th>485</th>\n      <td>Cabedelo</td>\n      <td>-6.9811</td>\n      <td>-34.8339</td>\n      <td>78.8</td>\n      <td>89</td>\n      <td>0</td>\n      <td>4.61</td>\n      <td>BR</td>\n      <td>Hotel Almagre</td>\n    </tr>\n    <tr>\n      <th>545</th>\n      <td>Sierra Vista</td>\n      <td>31.5545</td>\n      <td>-110.3037</td>\n      <td>73.99</td>\n      <td>4</td>\n      <td>1</td>\n      <td>4.61</td>\n      <td>US</td>\n      <td>Best Western Plus Sun Canyon</td>\n    </tr>\n    <tr>\n      <th>551</th>\n      <td>Sunrise Manor</td>\n      <td>36.2111</td>\n      <td>-115.0731</td>\n      <td>73.0</td>\n      <td>17</td>\n      <td>1</td>\n      <td>1.77</td>\n      <td>US</td>\n      <td>SpringHill Suites by Marriott Las Vegas North ...</td>\n    </tr>\n  </tbody>\n</table>\n</div>"
     },
     "metadata": {},
     "execution_count": 145
    }
   ],
   "source": [
    "hotel_df"
   ]
  },
  {
   "cell_type": "code",
   "execution_count": 146,
   "metadata": {},
   "outputs": [],
   "source": [
    "# NOTE: Do not change any of the code in this cell\n",
    "\n",
    "# Using the template add the hotel marks to the heatmap\n",
    "info_box_template = \"\"\"\n",
    "<dl>\n",
    "<dt>Name</dt><dd>{Hotel Name}</dd>\n",
    "<dt>City</dt><dd>{City}</dd>\n",
    "<dt>Country</dt><dd>{Country}</dd>\n",
    "</dl>\n",
    "\"\"\"\n",
    "# Store the DataFrame Row\n",
    "# NOTE: be sure to update with your DataFrame name\n",
    "hotel_info = [info_box_template.format(**row) for index, row in hotel_df.iterrows()]\n",
    "locations = hotel_df[[\"Lat\", \"Lng\"]].astype(float)"
   ]
  },
  {
   "cell_type": "code",
   "execution_count": 147,
   "metadata": {},
   "outputs": [],
   "source": [
    "# Add marker layer ontop of heat map\n",
    "fig = gmaps.figure()\n",
    "rating = hotel_df[\"Humidity\"].astype(float)\n",
    "intensity = hotel_df[\"Humidity\"].max()\n",
    "\n",
    "heat_layer = gmaps.heatmap_layer(locations, weights=rating, dissipating=False, max_intensity=int(intensity),point_radius=1)\n",
    "fig.add_layer(heat_layer)\n",
    "# Add layer\n",
    "hotel_layer = gmaps.marker_layer(\n",
    "    locations,\n",
    "    info_box_content=hotel_info\n",
    ")\n",
    "fig.add_layer(hotel_layer)\n",
    "\n",
    "# Display figure\n"
   ]
  },
  {
   "cell_type": "code",
   "execution_count": 148,
   "metadata": {},
   "outputs": [
    {
     "output_type": "display_data",
     "data": {
      "text/plain": "Figure(layout=FigureLayout(height='420px'))",
      "application/vnd.jupyter.widget-view+json": {
       "version_major": 2,
       "version_minor": 0,
       "model_id": "59c8c363f75c4d0887430e11eae2be15"
      }
     },
     "metadata": {}
    }
   ],
   "source": [
    "fig"
   ]
  },
  {
   "cell_type": "code",
   "execution_count": null,
   "metadata": {},
   "outputs": [],
   "source": []
  }
 ],
 "metadata": {
  "kernelspec": {
   "name": "python3",
   "display_name": "Python 3",
   "language": "python"
  },
  "language_info": {
   "codemirror_mode": {
    "name": "ipython",
    "version": 3
   },
   "file_extension": ".py",
   "mimetype": "text/x-python",
   "name": "python",
   "nbconvert_exporter": "python",
   "pygments_lexer": "ipython3",
   "version": "3.6.10"
  },
  "latex_envs": {
   "LaTeX_envs_menu_present": true,
   "autoclose": false,
   "autocomplete": true,
   "bibliofile": "biblio.bib",
   "cite_by": "apalike",
   "current_citInitial": 1,
   "eqLabelWithNumbers": true,
   "eqNumInitial": 1,
   "hotkeys": {
    "equation": "Ctrl-E",
    "itemize": "Ctrl-I"
   },
   "labels_anchors": false,
   "latex_user_defs": false,
   "report_style_numbering": false,
   "user_envs_cfg": false
  }
 },
 "nbformat": 4,
 "nbformat_minor": 4
}